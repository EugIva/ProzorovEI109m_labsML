{
  "nbformat": 4,
  "nbformat_minor": 0,
  "metadata": {
    "colab": {
      "provenance": [],
      "authorship_tag": "ABX9TyP60531vdSWMERsg2vEn19d",
      "include_colab_link": true
    },
    "kernelspec": {
      "name": "python3",
      "display_name": "Python 3"
    },
    "language_info": {
      "name": "python"
    }
  },
  "cells": [
    {
      "cell_type": "markdown",
      "metadata": {
        "id": "view-in-github",
        "colab_type": "text"
      },
      "source": [
        "<a href=\"https://colab.research.google.com/github/EugIva/ProzorovEI109m_labsML/blob/main/ML_labs/1_semestr/1lab_2/ProzorovEI109_ML_1sem_2lab.ipynb\" target=\"_parent\"><img src=\"https://colab.research.google.com/assets/colab-badge.svg\" alt=\"Open In Colab\"/></a>"
      ]
    },
    {
      "cell_type": "markdown",
      "source": [
        "----\n",
        " ####        ___Лабораторная работа №2___\n",
        "#### ___📄 Глобальная оптимизация и метаэврестические алгоритмы___  #\n",
        "\n",
        "----"
      ],
      "metadata": {
        "id": "LVWxAJrGv1cl"
      }
    },
    {
      "cell_type": "markdown",
      "source": [
        "> ___Лабораторная работа №2___           по курсу Фундаментальные концепции ИИ (ML)       \n",
        ">🎓  Прозоров Евгений Иванович 109М    \n",
        ">📧 eugene_ivanson@mail.ru       \n",
        ">tg: @EugIva           "
      ],
      "metadata": {
        "id": "5gc2AkKevzy2"
      }
    },
    {
      "cell_type": "markdown",
      "source": [
        "___Описание задачи:___\n",
        "Источник:  https://github.com/resi2311/AI-fundamentals#лабораторные-работы    \n",
        "Глобальная оптимизация и метаэврестические алгоритмы:\n",
        "\n",
        "В Pygmo запрогроммировать две своих тестовых функции и найти их оптимум 3 разными алгоритмами доступными в библиотеке и получить таблицу сравнения"
      ],
      "metadata": {
        "id": "9FASx40Ov9zm"
      }
    },
    {
      "cell_type": "code",
      "source": [
        "!pip install pygmo"
      ],
      "metadata": {
        "colab": {
          "base_uri": "https://localhost:8080/"
        },
        "id": "qyro5S00-8sz",
        "outputId": "4d306b76-70d5-413f-efb9-b731bc493ab8"
      },
      "execution_count": 20,
      "outputs": [
        {
          "output_type": "stream",
          "name": "stdout",
          "text": [
            "Requirement already satisfied: pygmo in /usr/local/lib/python3.10/dist-packages (2.19.5)\n",
            "Requirement already satisfied: numpy in /usr/local/lib/python3.10/dist-packages (from pygmo) (1.23.5)\n",
            "Requirement already satisfied: cloudpickle in /usr/local/lib/python3.10/dist-packages (from pygmo) (2.2.1)\n",
            "Requirement already satisfied: scipy in /usr/local/lib/python3.10/dist-packages (from pygmo) (1.11.3)\n"
          ]
        }
      ]
    },
    {
      "cell_type": "code",
      "source": [
        "import pygmo as pg\n",
        "\n",
        "import numpy as np\n",
        "from matplotlib import pyplot as plt\n",
        "import cv2\n",
        "import math\n",
        "import seaborn as sns\n",
        "import pandas as pd\n",
        "\n",
        "from pygmo import *\n",
        "from IPython.display import Image\n",
        "from IPython.core.display import HTML\n",
        "import pandas as pd\n",
        "\n",
        "\n",
        "import matplotlib\n",
        "from matplotlib import ticker as mtick\n",
        "\n",
        "from matplotlib import animation\n",
        "from matplotlib import rc\n",
        "from matplotlib import colors as cm"
      ],
      "metadata": {
        "id": "w3FK4-rSv_Bl"
      },
      "execution_count": 21,
      "outputs": []
    },
    {
      "cell_type": "markdown",
      "source": [
        "Функция Матьяса\n",
        "\n",
        "Поиск глобального минимума через pygmo -      \n",
        "     Simple Genetic Algorithm"
      ],
      "metadata": {
        "id": "Irg2ts7ibcJJ"
      }
    },
    {
      "cell_type": "code",
      "source": [
        "def matyas(x: np.array, y: np.array) -> float:\n",
        "  return 0.26*(x*x + y*y)-0.48*x*y\n",
        "\n",
        "class Matyas():\n",
        "  @staticmethod\n",
        "  def fitness(x):\n",
        "      return [0.26*(x[0]*x[0] + x[1]*x[1])-0.48*x[0]*x[1]]\n",
        "\n",
        "  @staticmethod\n",
        "  def get_bounds():\n",
        "      return ([-10, -10], [10, 10])\n",
        "\n",
        "  @staticmethod\n",
        "  def gradient(self, x):\n",
        "      return pg.estimate_gradient_h(lambda x: self.fitness(x), x)"
      ],
      "metadata": {
        "id": "VaDlOywD9_eq"
      },
      "execution_count": 22,
      "outputs": []
    },
    {
      "cell_type": "code",
      "source": [
        "algo = pg.algorithm(pg.sga(gen=1000))\n",
        "prob = pg.problem(Matyas())\n",
        "print(prob)\n",
        "\n",
        "pop = pg.population(prob, 1000)\n",
        "pop = algo.evolve(pop)\n",
        "print(pop.champion_f)"
      ],
      "metadata": {
        "colab": {
          "base_uri": "https://localhost:8080/"
        },
        "id": "skoCYEQwbkIN",
        "outputId": "612dba16-b32e-4c34-b60f-b5b491c9f5e5"
      },
      "execution_count": 23,
      "outputs": [
        {
          "output_type": "stream",
          "name": "stdout",
          "text": [
            "Problem name: <class '__main__.Matyas'>\n",
            "\tC++ class name: pybind11::object\n",
            "\n",
            "\tGlobal dimension:\t\t\t2\n",
            "\tInteger dimension:\t\t\t0\n",
            "\tFitness dimension:\t\t\t1\n",
            "\tNumber of objectives:\t\t\t1\n",
            "\tEquality constraints dimension:\t\t0\n",
            "\tInequality constraints dimension:\t0\n",
            "\tLower bounds: [-10, -10]\n",
            "\tUpper bounds: [10, 10]\n",
            "\tHas batch fitness evaluation: false\n",
            "\n",
            "\tHas gradient: true\n",
            "\tUser implemented gradient sparsity: false\n",
            "\tExpected gradients: 2\n",
            "\tHas hessians: false\n",
            "\tUser implemented hessians sparsity: false\n",
            "\n",
            "\tFitness evaluations: 0\n",
            "\tGradient evaluations: 0\n",
            "\n",
            "\tThread safety: none\n",
            "\n",
            "[4.89998344e-06]\n"
          ]
        }
      ]
    },
    {
      "cell_type": "code",
      "source": [
        "#Points function graph\n",
        "xDraw = np.linspace(-5, 5, num=200)\n",
        "yDraw = np.linspace(-5, 5, num=200)\n",
        "X, Y = np.meshgrid(xDraw, yDraw)\n",
        "Z = matyas(X, Y)\n",
        "\n",
        "#Global minimum graph\n",
        "fig = plt.figure(figsize=(12,8))\n",
        "ax = fig.gca(projection='3d')\n",
        "ax.plot_surface(X, Y, Z, rstride=1, cstride=1, cmap='nipy_spectral_r', linewidth=1, antialiased=True)\n",
        "ax.view_init(70, 25)\n",
        "ax.set_xlabel('x', fontsize=16)\n",
        "ax.set_ylabel('y', fontsize=16)\n",
        "ax.set_zlabel('z', fontsize=16)\n",
        "ax.set_title('Функция Матьяса', fontsize=20)\n",
        "x = pop.get_x()[:,0]\n",
        "y = pop.get_x()[:,0]\n",
        "z = pop.get_f()[:,0]\n",
        "ax.scatter3D(x, y, z, s=150, c='b', label ='Глобальный минимум')\n",
        "ax.legend(fontsize=12)\n",
        "plt.show()"
      ],
      "metadata": {
        "colab": {
          "base_uri": "https://localhost:8080/",
          "height": 263
        },
        "id": "ZT_Qffcobr07",
        "outputId": "148e4935-9c82-41f6-f464-29a303303a4f"
      },
      "execution_count": 26,
      "outputs": [
        {
          "output_type": "error",
          "ename": "TypeError",
          "evalue": "ignored",
          "traceback": [
            "\u001b[0;31m---------------------------------------------------------------------------\u001b[0m",
            "\u001b[0;31mTypeError\u001b[0m                                 Traceback (most recent call last)",
            "\u001b[0;32m<ipython-input-26-26a234b00abb>\u001b[0m in \u001b[0;36m<cell line: 9>\u001b[0;34m()\u001b[0m\n\u001b[1;32m      7\u001b[0m \u001b[0;31m#Global minimum graph\u001b[0m\u001b[0;34m\u001b[0m\u001b[0;34m\u001b[0m\u001b[0m\n\u001b[1;32m      8\u001b[0m \u001b[0mfig\u001b[0m \u001b[0;34m=\u001b[0m \u001b[0mplt\u001b[0m\u001b[0;34m.\u001b[0m\u001b[0mfigure\u001b[0m\u001b[0;34m(\u001b[0m\u001b[0mfigsize\u001b[0m\u001b[0;34m=\u001b[0m\u001b[0;34m(\u001b[0m\u001b[0;36m12\u001b[0m\u001b[0;34m,\u001b[0m\u001b[0;36m8\u001b[0m\u001b[0;34m)\u001b[0m\u001b[0;34m)\u001b[0m\u001b[0;34m\u001b[0m\u001b[0;34m\u001b[0m\u001b[0m\n\u001b[0;32m----> 9\u001b[0;31m \u001b[0max\u001b[0m \u001b[0;34m=\u001b[0m \u001b[0mfig\u001b[0m\u001b[0;34m.\u001b[0m\u001b[0mgca\u001b[0m\u001b[0;34m(\u001b[0m\u001b[0mprojection\u001b[0m\u001b[0;34m=\u001b[0m\u001b[0;34m'3d'\u001b[0m\u001b[0;34m)\u001b[0m\u001b[0;34m\u001b[0m\u001b[0;34m\u001b[0m\u001b[0m\n\u001b[0m\u001b[1;32m     10\u001b[0m \u001b[0max\u001b[0m\u001b[0;34m.\u001b[0m\u001b[0mplot_surface\u001b[0m\u001b[0;34m(\u001b[0m\u001b[0mX\u001b[0m\u001b[0;34m,\u001b[0m \u001b[0mY\u001b[0m\u001b[0;34m,\u001b[0m \u001b[0mZ\u001b[0m\u001b[0;34m,\u001b[0m \u001b[0mrstride\u001b[0m\u001b[0;34m=\u001b[0m\u001b[0;36m1\u001b[0m\u001b[0;34m,\u001b[0m \u001b[0mcstride\u001b[0m\u001b[0;34m=\u001b[0m\u001b[0;36m1\u001b[0m\u001b[0;34m,\u001b[0m \u001b[0mcmap\u001b[0m\u001b[0;34m=\u001b[0m\u001b[0;34m'nipy_spectral_r'\u001b[0m\u001b[0;34m,\u001b[0m \u001b[0mlinewidth\u001b[0m\u001b[0;34m=\u001b[0m\u001b[0;36m1\u001b[0m\u001b[0;34m,\u001b[0m \u001b[0mantialiased\u001b[0m\u001b[0;34m=\u001b[0m\u001b[0;32mTrue\u001b[0m\u001b[0;34m)\u001b[0m\u001b[0;34m\u001b[0m\u001b[0;34m\u001b[0m\u001b[0m\n\u001b[1;32m     11\u001b[0m \u001b[0max\u001b[0m\u001b[0;34m.\u001b[0m\u001b[0mview_init\u001b[0m\u001b[0;34m(\u001b[0m\u001b[0;36m70\u001b[0m\u001b[0;34m,\u001b[0m \u001b[0;36m25\u001b[0m\u001b[0;34m)\u001b[0m\u001b[0;34m\u001b[0m\u001b[0;34m\u001b[0m\u001b[0m\n",
            "\u001b[0;31mTypeError\u001b[0m: FigureBase.gca() got an unexpected keyword argument 'projection'"
          ]
        },
        {
          "output_type": "display_data",
          "data": {
            "text/plain": [
              "<Figure size 1200x800 with 0 Axes>"
            ]
          },
          "metadata": {}
        }
      ]
    }
  ]
}